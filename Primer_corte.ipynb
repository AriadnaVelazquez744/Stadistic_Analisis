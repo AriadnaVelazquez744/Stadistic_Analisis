{
 "cells": [
  {
   "cell_type": "markdown",
   "metadata": {},
   "source": [
    "# Primer corte del proyecto final de Estadística\n",
    "\n",
    "### Tema de la BD: \n",
    "Consumo cultural en los jóvenes cubanos. Los datos fueron obtenidos mediante la realización de una encuesta.\n",
    "\n",
    "### Integrantes:\n",
    "- Ariadna Velázquez Rey  C311\n",
    "- Lia Stephanie López Rosales  C312\n",
    "- Raidel Miguel Cabellud Lizaso  C311"
   ]
  },
  {
   "cell_type": "markdown",
   "metadata": {},
   "source": [
    "## Importación de las librerías necesarias"
   ]
  },
  {
   "cell_type": "code",
   "execution_count": 94,
   "metadata": {},
   "outputs": [],
   "source": [
    "import pandas as pd\n",
    "import numpy as np\n",
    "import seaborn as sns\n",
    "import matplotlib.pyplot as plt\n",
    "from scipy import stats\n",
    "from itertools import chain"
   ]
  },
  {
   "cell_type": "markdown",
   "metadata": {},
   "source": [
    "## 1. Carga de datos"
   ]
  },
  {
   "cell_type": "code",
   "execution_count": 95,
   "metadata": {},
   "outputs": [],
   "source": [
    "archivo = './Consumo_Cultural_en_Cuba.xlsx'  # Ruta al archivo proporcionado\n",
    "df = pd.read_excel(archivo)"
   ]
  },
  {
   "cell_type": "markdown",
   "metadata": {},
   "source": [
    "## 2. Normalización de \"Géneros musicales favoritos\""
   ]
  },
  {
   "cell_type": "code",
   "execution_count": 96,
   "metadata": {},
   "outputs": [],
   "source": [
    "# Función para separar y normalizar los géneros musicales\n",
    "def normalizar_generos(df, columna, separador=','):\n",
    "    # Crear una lista de listas con los géneros separados\n",
    "    generos_separados = df[columna].dropna().apply(lambda x: [g.strip() for g in x.split(separador)])\n",
    "    \n",
    "    # Desplegar la lista y crear un DataFrame\n",
    "    generos_planos = list(chain(*generos_separados))\n",
    "    genero_frecuencia = pd.Series(generos_planos).value_counts().reset_index()\n",
    "    genero_frecuencia.columns = ['Genero', 'Frecuencia']\n",
    "    \n",
    "    return genero_frecuencia"
   ]
  },
  {
   "cell_type": "code",
   "execution_count": 97,
   "metadata": {},
   "outputs": [
    {
     "name": "stdout",
     "output_type": "stream",
     "text": [
      "Generos musicales normalizados:\n",
      "Genero\n",
      "Pop                                       1\n",
      "Lo-Fi                                     1\n",
      "alt rock                                  1\n",
      "post punk                                 1\n",
      "Romántico                                 1\n",
      "                                         ..\n",
      "Country                                   1\n",
      "indie latino                              1\n",
      "Baladas románticas                        1\n",
      "Alternative y R&B                         1\n",
      "Timba ¿Cómo no va a estar en la lista?    1\n",
      "Name: count, Length: 65, dtype: int64\n"
     ]
    }
   ],
   "source": [
    "# Aplicar la normalización\n",
    "df_generos_normalizados = normalizar_generos(df, 'Géneros musicales favoritos')\n",
    "print(\"Generos musicales normalizados:\")\n",
    "print(df_generos_normalizados['Genero'].value_counts())"
   ]
  },
  {
   "cell_type": "markdown",
   "metadata": {},
   "source": [
    "## 3. Normalización de categorías similares en columnas"
   ]
  },
  {
   "cell_type": "code",
   "execution_count": 98,
   "metadata": {},
   "outputs": [],
   "source": [
    "def normalizar_categorias(df, columna, mapeo):\n",
    "    df[columna] = df[columna].replace(mapeo)\n",
    "    return df"
   ]
  },
  {
   "cell_type": "code",
   "execution_count": 99,
   "metadata": {},
   "outputs": [],
   "source": [
    "# Mapeos para normalizar nombres\n",
    "mapeo_plataformas = {\n",
    "    'SnapTube ': 'Snaptube',\n",
    "    'La descargo por Snaptube': 'Snaptube',\n",
    "    'descargadas desde snaptube': 'Snaptube',\n",
    "    'Vidmate': 'VidMate'\n",
    "}\n",
    "\n",
    "mapeo_universidades = {\n",
    "    'UH': 'Universidad de La Habana',\n",
    "    'Universidad de La Habana': 'Universidad de La Habana',\n",
    "    'Matcom': 'MATCOM',\n",
    "    'Filosofía ': 'FHS'\n",
    "}"
   ]
  },
  {
   "cell_type": "code",
   "execution_count": 100,
   "metadata": {},
   "outputs": [
    {
     "data": {
      "text/html": [
       "<div>\n",
       "<style scoped>\n",
       "    .dataframe tbody tr th:only-of-type {\n",
       "        vertical-align: middle;\n",
       "    }\n",
       "\n",
       "    .dataframe tbody tr th {\n",
       "        vertical-align: top;\n",
       "    }\n",
       "\n",
       "    .dataframe thead th {\n",
       "        text-align: right;\n",
       "    }\n",
       "</style>\n",
       "<table border=\"1\" class=\"dataframe\">\n",
       "  <thead>\n",
       "    <tr style=\"text-align: right;\">\n",
       "      <th></th>\n",
       "      <th>Marca temporal</th>\n",
       "      <th>Universidad en que estudias</th>\n",
       "      <th>Facultad en que estudias</th>\n",
       "      <th>Qué edad tienes?</th>\n",
       "      <th>Vertiente cultural que màs consumes</th>\n",
       "      <th>Géneros musicales favoritos</th>\n",
       "      <th>Cantante o grupo favorito</th>\n",
       "      <th>Plataforma donde más consumes música</th>\n",
       "      <th>Géneros cinematográficos favoritos</th>\n",
       "      <th>Plataforma donde mas consumes cine</th>\n",
       "      <th>Película favorita</th>\n",
       "      <th>Gèneros literarios favoritos</th>\n",
       "      <th>Plataforma donde más consumes literatura</th>\n",
       "      <th>Escritor favorito</th>\n",
       "      <th>Arte plástica favorita</th>\n",
       "      <th>Plataforma donde más consumes artes plásticas</th>\n",
       "      <th>Artista plástico favorito</th>\n",
       "    </tr>\n",
       "  </thead>\n",
       "  <tbody>\n",
       "    <tr>\n",
       "      <th>0</th>\n",
       "      <td>2024-07-07 09:37:08.497</td>\n",
       "      <td>Universidad de La Habana</td>\n",
       "      <td>MATCOM</td>\n",
       "      <td>22</td>\n",
       "      <td>Música</td>\n",
       "      <td>Rock, Hip-Hop</td>\n",
       "      <td>Skillet</td>\n",
       "      <td>Spotify</td>\n",
       "      <td>Aventura, Comedia, Terror</td>\n",
       "      <td>Telegram</td>\n",
       "      <td>I am Legend</td>\n",
       "      <td>Romance</td>\n",
       "      <td>Wattpad</td>\n",
       "      <td>Sarah M. James</td>\n",
       "      <td>Pintura</td>\n",
       "      <td>Pinterest</td>\n",
       "      <td>Vincent van Gogh</td>\n",
       "    </tr>\n",
       "    <tr>\n",
       "      <th>1</th>\n",
       "      <td>2024-07-07 09:43:45.764</td>\n",
       "      <td>Universidad de La Habana</td>\n",
       "      <td>Matcom</td>\n",
       "      <td>20</td>\n",
       "      <td>Música</td>\n",
       "      <td>Rock, Hip-Hop, Trap, EDM, Experimental</td>\n",
       "      <td>Kanye West</td>\n",
       "      <td>Spotify</td>\n",
       "      <td>Aventura, Comedia, Misterio</td>\n",
       "      <td>Paquete Semanal</td>\n",
       "      <td>Scott Pilgrim vs The World</td>\n",
       "      <td>Fantasía, Misterio, Divulgación científica</td>\n",
       "      <td>Libros en Físico</td>\n",
       "      <td>Dan Brown</td>\n",
       "      <td>Pintura</td>\n",
       "      <td>Galerías de Arte</td>\n",
       "      <td>Salvador Dali</td>\n",
       "    </tr>\n",
       "    <tr>\n",
       "      <th>2</th>\n",
       "      <td>2024-07-07 09:56:11.729</td>\n",
       "      <td>Universidad de La Habana</td>\n",
       "      <td>FHS</td>\n",
       "      <td>20</td>\n",
       "      <td>Música</td>\n",
       "      <td>Hip-Hop, Trap, EDM, Experimental</td>\n",
       "      <td>Porter Robinson</td>\n",
       "      <td>Telegram</td>\n",
       "      <td>NaN</td>\n",
       "      <td>NaN</td>\n",
       "      <td>NaN</td>\n",
       "      <td>NaN</td>\n",
       "      <td>NaN</td>\n",
       "      <td>NaN</td>\n",
       "      <td>NaN</td>\n",
       "      <td>Galerías de Arte</td>\n",
       "      <td>NaN</td>\n",
       "    </tr>\n",
       "    <tr>\n",
       "      <th>3</th>\n",
       "      <td>2024-07-07 10:02:35.432</td>\n",
       "      <td>Universidad de La Habana</td>\n",
       "      <td>FBio</td>\n",
       "      <td>20</td>\n",
       "      <td>Música</td>\n",
       "      <td>Rock, Hip-Hop, Blues</td>\n",
       "      <td>Maneskin</td>\n",
       "      <td>Spotify</td>\n",
       "      <td>Acción, Comedia, Drama, Misterio</td>\n",
       "      <td>Netflix</td>\n",
       "      <td>Avatar</td>\n",
       "      <td>Fantasía, Misterio, Suspenso, Literatura histo...</td>\n",
       "      <td>google</td>\n",
       "      <td>Brandon Sanderson</td>\n",
       "      <td>Artesanía</td>\n",
       "      <td>Pinterest</td>\n",
       "      <td>luo li rong</td>\n",
       "    </tr>\n",
       "    <tr>\n",
       "      <th>4</th>\n",
       "      <td>2024-07-07 10:08:25.765</td>\n",
       "      <td>Instituro Superior de Arte</td>\n",
       "      <td>Facultad de Arte de los Medios de Comunicación...</td>\n",
       "      <td>18</td>\n",
       "      <td>Cine</td>\n",
       "      <td>Experimental</td>\n",
       "      <td>Arca</td>\n",
       "      <td>Telegram</td>\n",
       "      <td>Terror, Suspenso</td>\n",
       "      <td>Telegram</td>\n",
       "      <td>El Secreto de sus ojos</td>\n",
       "      <td>Ficción, Poesía</td>\n",
       "      <td>Libros en Físico</td>\n",
       "      <td>Alice Walker</td>\n",
       "      <td>Pintura</td>\n",
       "      <td>Galerías de Arte</td>\n",
       "      <td>Fidelio Ponce</td>\n",
       "    </tr>\n",
       "    <tr>\n",
       "      <th>...</th>\n",
       "      <td>...</td>\n",
       "      <td>...</td>\n",
       "      <td>...</td>\n",
       "      <td>...</td>\n",
       "      <td>...</td>\n",
       "      <td>...</td>\n",
       "      <td>...</td>\n",
       "      <td>...</td>\n",
       "      <td>...</td>\n",
       "      <td>...</td>\n",
       "      <td>...</td>\n",
       "      <td>...</td>\n",
       "      <td>...</td>\n",
       "      <td>...</td>\n",
       "      <td>...</td>\n",
       "      <td>...</td>\n",
       "      <td>...</td>\n",
       "    </tr>\n",
       "    <tr>\n",
       "      <th>167</th>\n",
       "      <td>2024-07-13 08:15:07.679</td>\n",
       "      <td>Universidad de La Habana</td>\n",
       "      <td>FCOM</td>\n",
       "      <td>19</td>\n",
       "      <td>Música</td>\n",
       "      <td>Reggaetón, Pop, Rumba, Baladas románticas</td>\n",
       "      <td>Backstreet boys</td>\n",
       "      <td>Youtube</td>\n",
       "      <td>Comedia</td>\n",
       "      <td>Telegram</td>\n",
       "      <td>Shrek 2👺</td>\n",
       "      <td>Literatura historíca</td>\n",
       "      <td>Libros en Físico</td>\n",
       "      <td>NaN</td>\n",
       "      <td>Pintura</td>\n",
       "      <td>Galerías de Arte</td>\n",
       "      <td>NaN</td>\n",
       "    </tr>\n",
       "    <tr>\n",
       "      <th>168</th>\n",
       "      <td>2024-07-14 17:30:14.671</td>\n",
       "      <td>ISA</td>\n",
       "      <td>Artes visuales</td>\n",
       "      <td>18</td>\n",
       "      <td>Fotografía</td>\n",
       "      <td>Rock, Reggaetón, Hip-Hop, Trap, Jazz, Trova, E...</td>\n",
       "      <td>Red Hot Chilli Pepers</td>\n",
       "      <td>Youtube</td>\n",
       "      <td>Drama, Terror, Suspenso, Misterio</td>\n",
       "      <td>Copia de películas entre amigos</td>\n",
       "      <td>(Imposible decidir por una)</td>\n",
       "      <td>Bizarro</td>\n",
       "      <td>Telegram</td>\n",
       "      <td>Agustina Bazterrica</td>\n",
       "      <td>Fotografía</td>\n",
       "      <td>Pinterest</td>\n",
       "      <td>Gustav Klint</td>\n",
       "    </tr>\n",
       "    <tr>\n",
       "      <th>169</th>\n",
       "      <td>2024-07-14 20:53:27.484</td>\n",
       "      <td>Universidad de La Habana</td>\n",
       "      <td>Filosofía</td>\n",
       "      <td>19</td>\n",
       "      <td>Cine</td>\n",
       "      <td>Rock, Jazz, Trova,</td>\n",
       "      <td>Jokki</td>\n",
       "      <td>Telegram</td>\n",
       "      <td>Comedia, Drama, Musical</td>\n",
       "      <td>En mi casa</td>\n",
       "      <td>Across the universe</td>\n",
       "      <td>Poesía, Fantasía</td>\n",
       "      <td>Libros en Físico</td>\n",
       "      <td>Mempo Giardinelli</td>\n",
       "      <td>Artesanía</td>\n",
       "      <td>Instagram</td>\n",
       "      <td>Amelia Peláez</td>\n",
       "    </tr>\n",
       "    <tr>\n",
       "      <th>170</th>\n",
       "      <td>2024-07-15 22:26:07.657</td>\n",
       "      <td>UM</td>\n",
       "      <td>FTur</td>\n",
       "      <td>19</td>\n",
       "      <td>Cine</td>\n",
       "      <td>Rock</td>\n",
       "      <td>Radiohead</td>\n",
       "      <td>Telegram</td>\n",
       "      <td>Drama, Terror</td>\n",
       "      <td>Telegram</td>\n",
       "      <td>Vértigo</td>\n",
       "      <td>Suspenso</td>\n",
       "      <td>Telegram</td>\n",
       "      <td>George Orwell</td>\n",
       "      <td>NaN</td>\n",
       "      <td>Youtube</td>\n",
       "      <td>NaN</td>\n",
       "    </tr>\n",
       "    <tr>\n",
       "      <th>171</th>\n",
       "      <td>2024-07-24 11:45:22.526</td>\n",
       "      <td>Universidad de la Habana</td>\n",
       "      <td>Derecho</td>\n",
       "      <td>21</td>\n",
       "      <td>Música</td>\n",
       "      <td>Hip-Hop, Pop, Trova, Blues, Timba ¿Cómo no va ...</td>\n",
       "      <td>Silvio Rodríguez, Alexander Abreu y HP</td>\n",
       "      <td>Telegram</td>\n",
       "      <td>Comedia, Drama, Suspenso, Musical, Las basadas...</td>\n",
       "      <td>Cine</td>\n",
       "      <td>La muerte de un burócrata</td>\n",
       "      <td>Ficción, Romance, Literatura historíca</td>\n",
       "      <td>Libros en Físico</td>\n",
       "      <td>Eduardo Galeano</td>\n",
       "      <td>Pintura</td>\n",
       "      <td>Instagram</td>\n",
       "      <td>NaN</td>\n",
       "    </tr>\n",
       "  </tbody>\n",
       "</table>\n",
       "<p>172 rows × 17 columns</p>\n",
       "</div>"
      ],
      "text/plain": [
       "             Marca temporal Universidad en que estudias  \\\n",
       "0   2024-07-07 09:37:08.497    Universidad de La Habana   \n",
       "1   2024-07-07 09:43:45.764    Universidad de La Habana   \n",
       "2   2024-07-07 09:56:11.729    Universidad de La Habana   \n",
       "3   2024-07-07 10:02:35.432    Universidad de La Habana   \n",
       "4   2024-07-07 10:08:25.765  Instituro Superior de Arte   \n",
       "..                      ...                         ...   \n",
       "167 2024-07-13 08:15:07.679    Universidad de La Habana   \n",
       "168 2024-07-14 17:30:14.671                         ISA   \n",
       "169 2024-07-14 20:53:27.484    Universidad de La Habana   \n",
       "170 2024-07-15 22:26:07.657                          UM   \n",
       "171 2024-07-24 11:45:22.526    Universidad de la Habana   \n",
       "\n",
       "                              Facultad en que estudias  Qué edad tienes?  \\\n",
       "0                                               MATCOM                22   \n",
       "1                                               Matcom                20   \n",
       "2                                                  FHS                20   \n",
       "3                                                 FBio                20   \n",
       "4    Facultad de Arte de los Medios de Comunicación...                18   \n",
       "..                                                 ...               ...   \n",
       "167                                               FCOM                19   \n",
       "168                                    Artes visuales                 18   \n",
       "169                                          Filosofía                19   \n",
       "170                                               FTur                19   \n",
       "171                                            Derecho                21   \n",
       "\n",
       "    Vertiente cultural que màs consumes  \\\n",
       "0                                Música   \n",
       "1                                Música   \n",
       "2                                Música   \n",
       "3                                Música   \n",
       "4                                  Cine   \n",
       "..                                  ...   \n",
       "167                              Música   \n",
       "168                          Fotografía   \n",
       "169                                Cine   \n",
       "170                                Cine   \n",
       "171                              Música   \n",
       "\n",
       "                           Géneros musicales favoritos  \\\n",
       "0                                        Rock, Hip-Hop   \n",
       "1               Rock, Hip-Hop, Trap, EDM, Experimental   \n",
       "2                     Hip-Hop, Trap, EDM, Experimental   \n",
       "3                                 Rock, Hip-Hop, Blues   \n",
       "4                                         Experimental   \n",
       "..                                                 ...   \n",
       "167          Reggaetón, Pop, Rumba, Baladas románticas   \n",
       "168  Rock, Reggaetón, Hip-Hop, Trap, Jazz, Trova, E...   \n",
       "169                                Rock, Jazz, Trova,    \n",
       "170                                               Rock   \n",
       "171  Hip-Hop, Pop, Trova, Blues, Timba ¿Cómo no va ...   \n",
       "\n",
       "                  Cantante o grupo favorito  \\\n",
       "0                                   Skillet   \n",
       "1                                Kanye West   \n",
       "2                           Porter Robinson   \n",
       "3                                  Maneskin   \n",
       "4                                      Arca   \n",
       "..                                      ...   \n",
       "167                         Backstreet boys   \n",
       "168                   Red Hot Chilli Pepers   \n",
       "169                                   Jokki   \n",
       "170                              Radiohead    \n",
       "171  Silvio Rodríguez, Alexander Abreu y HP   \n",
       "\n",
       "    Plataforma donde más consumes música  \\\n",
       "0                                Spotify   \n",
       "1                                Spotify   \n",
       "2                               Telegram   \n",
       "3                                Spotify   \n",
       "4                               Telegram   \n",
       "..                                   ...   \n",
       "167                              Youtube   \n",
       "168                              Youtube   \n",
       "169                             Telegram   \n",
       "170                             Telegram   \n",
       "171                             Telegram   \n",
       "\n",
       "                    Géneros cinematográficos favoritos  \\\n",
       "0                            Aventura, Comedia, Terror   \n",
       "1                          Aventura, Comedia, Misterio   \n",
       "2                                                  NaN   \n",
       "3                     Acción, Comedia, Drama, Misterio   \n",
       "4                                     Terror, Suspenso   \n",
       "..                                                 ...   \n",
       "167                                            Comedia   \n",
       "168                  Drama, Terror, Suspenso, Misterio   \n",
       "169                            Comedia, Drama, Musical   \n",
       "170                                      Drama, Terror   \n",
       "171  Comedia, Drama, Suspenso, Musical, Las basadas...   \n",
       "\n",
       "    Plataforma donde mas consumes cine            Película favorita  \\\n",
       "0                             Telegram                  I am Legend   \n",
       "1                      Paquete Semanal   Scott Pilgrim vs The World   \n",
       "2                                  NaN                          NaN   \n",
       "3                              Netflix                       Avatar   \n",
       "4                             Telegram       El Secreto de sus ojos   \n",
       "..                                 ...                          ...   \n",
       "167                           Telegram                     Shrek 2👺   \n",
       "168    Copia de películas entre amigos  (Imposible decidir por una)   \n",
       "169                         En mi casa          Across the universe   \n",
       "170                           Telegram                     Vértigo    \n",
       "171                               Cine    La muerte de un burócrata   \n",
       "\n",
       "                          Gèneros literarios favoritos  \\\n",
       "0                                              Romance   \n",
       "1           Fantasía, Misterio, Divulgación científica   \n",
       "2                                                  NaN   \n",
       "3    Fantasía, Misterio, Suspenso, Literatura histo...   \n",
       "4                                      Ficción, Poesía   \n",
       "..                                                 ...   \n",
       "167                               Literatura historíca   \n",
       "168                                           Bizarro    \n",
       "169                                   Poesía, Fantasía   \n",
       "170                                           Suspenso   \n",
       "171             Ficción, Romance, Literatura historíca   \n",
       "\n",
       "    Plataforma donde más consumes literatura    Escritor favorito  \\\n",
       "0                                    Wattpad       Sarah M. James   \n",
       "1                           Libros en Físico            Dan Brown   \n",
       "2                                        NaN                  NaN   \n",
       "3                                     google    Brandon Sanderson   \n",
       "4                           Libros en Físico         Alice Walker   \n",
       "..                                       ...                  ...   \n",
       "167                         Libros en Físico                  NaN   \n",
       "168                                 Telegram  Agustina Bazterrica   \n",
       "169                         Libros en Físico    Mempo Giardinelli   \n",
       "170                                 Telegram       George Orwell    \n",
       "171                         Libros en Físico      Eduardo Galeano   \n",
       "\n",
       "    Arte plástica favorita Plataforma donde más consumes artes plásticas  \\\n",
       "0                  Pintura                                     Pinterest   \n",
       "1                  Pintura                              Galerías de Arte   \n",
       "2                      NaN                              Galerías de Arte   \n",
       "3                Artesanía                                     Pinterest   \n",
       "4                  Pintura                              Galerías de Arte   \n",
       "..                     ...                                           ...   \n",
       "167                Pintura                              Galerías de Arte   \n",
       "168            Fotografía                                      Pinterest   \n",
       "169              Artesanía                                     Instagram   \n",
       "170                    NaN                                       Youtube   \n",
       "171                Pintura                                     Instagram   \n",
       "\n",
       "    Artista plástico favorito   \n",
       "0             Vincent van Gogh  \n",
       "1                Salvador Dali  \n",
       "2                          NaN  \n",
       "3                  luo li rong  \n",
       "4                Fidelio Ponce  \n",
       "..                         ...  \n",
       "167                        NaN  \n",
       "168               Gustav Klint  \n",
       "169              Amelia Peláez  \n",
       "170                        NaN  \n",
       "171                        NaN  \n",
       "\n",
       "[172 rows x 17 columns]"
      ]
     },
     "execution_count": 100,
     "metadata": {},
     "output_type": "execute_result"
    }
   ],
   "source": [
    "# Aplicar mapeos\n",
    "normalizar_categorias(df, 'Plataforma donde más consumes música', mapeo_plataformas)\n",
    "normalizar_categorias(df, 'Universidad en que estudias', mapeo_universidades)"
   ]
  },
  {
   "cell_type": "markdown",
   "metadata": {},
   "source": [
    "## 4. Exploración de datos"
   ]
  },
  {
   "cell_type": "markdown",
   "metadata": {},
   "source": [
    "- ### Inspección inicial\n",
    "\n",
    "Información general del dataset:"
   ]
  },
  {
   "cell_type": "code",
   "execution_count": 101,
   "metadata": {},
   "outputs": [
    {
     "name": "stdout",
     "output_type": "stream",
     "text": [
      "<class 'pandas.core.frame.DataFrame'>\n",
      "RangeIndex: 172 entries, 0 to 171\n",
      "Data columns (total 17 columns):\n",
      " #   Column                                         Non-Null Count  Dtype         \n",
      "---  ------                                         --------------  -----         \n",
      " 0   Marca temporal                                 172 non-null    datetime64[ns]\n",
      " 1   Universidad en que estudias                    171 non-null    object        \n",
      " 2   Facultad en que estudias                       171 non-null    object        \n",
      " 3   Qué edad tienes?                               172 non-null    int64         \n",
      " 4   Vertiente cultural que màs consumes            172 non-null    object        \n",
      " 5   Géneros musicales favoritos                    168 non-null    object        \n",
      " 6   Cantante o grupo favorito                      141 non-null    object        \n",
      " 7   Plataforma donde más consumes música           171 non-null    object        \n",
      " 8   Géneros cinematográficos favoritos             169 non-null    object        \n",
      " 9   Plataforma donde mas consumes cine             162 non-null    object        \n",
      " 10  Película favorita                              135 non-null    object        \n",
      " 11  Gèneros literarios favoritos                   164 non-null    object        \n",
      " 12  Plataforma donde más consumes literatura       158 non-null    object        \n",
      " 13  Escritor favorito                              118 non-null    object        \n",
      " 14  Arte plástica favorita                         145 non-null    object        \n",
      " 15  Plataforma donde más consumes artes plásticas  149 non-null    object        \n",
      " 16  Artista plástico favorito                      88 non-null     object        \n",
      "dtypes: datetime64[ns](1), int64(1), object(15)\n",
      "memory usage: 23.0+ KB\n",
      "None\n"
     ]
    }
   ],
   "source": [
    "print(df.info())"
   ]
  },
  {
   "cell_type": "markdown",
   "metadata": {},
   "source": [
    "Primeras filas del dataset:"
   ]
  },
  {
   "cell_type": "code",
   "execution_count": 102,
   "metadata": {},
   "outputs": [
    {
     "name": "stdout",
     "output_type": "stream",
     "text": [
      "           Marca temporal Universidad en que estudias  \\\n",
      "0 2024-07-07 09:37:08.497    Universidad de La Habana   \n",
      "1 2024-07-07 09:43:45.764    Universidad de La Habana   \n",
      "2 2024-07-07 09:56:11.729    Universidad de La Habana   \n",
      "3 2024-07-07 10:02:35.432    Universidad de La Habana   \n",
      "4 2024-07-07 10:08:25.765  Instituro Superior de Arte   \n",
      "\n",
      "                            Facultad en que estudias  Qué edad tienes?  \\\n",
      "0                                             MATCOM                22   \n",
      "1                                             Matcom                20   \n",
      "2                                                FHS                20   \n",
      "3                                               FBio                20   \n",
      "4  Facultad de Arte de los Medios de Comunicación...                18   \n",
      "\n",
      "  Vertiente cultural que màs consumes             Géneros musicales favoritos  \\\n",
      "0                              Música                           Rock, Hip-Hop   \n",
      "1                              Música  Rock, Hip-Hop, Trap, EDM, Experimental   \n",
      "2                              Música        Hip-Hop, Trap, EDM, Experimental   \n",
      "3                              Música                    Rock, Hip-Hop, Blues   \n",
      "4                                Cine                            Experimental   \n",
      "\n",
      "  Cantante o grupo favorito Plataforma donde más consumes música  \\\n",
      "0                   Skillet                              Spotify   \n",
      "1                Kanye West                              Spotify   \n",
      "2           Porter Robinson                             Telegram   \n",
      "3                  Maneskin                              Spotify   \n",
      "4                      Arca                             Telegram   \n",
      "\n",
      "  Géneros cinematográficos favoritos Plataforma donde mas consumes cine  \\\n",
      "0          Aventura, Comedia, Terror                           Telegram   \n",
      "1        Aventura, Comedia, Misterio                    Paquete Semanal   \n",
      "2                                NaN                                NaN   \n",
      "3   Acción, Comedia, Drama, Misterio                            Netflix   \n",
      "4                   Terror, Suspenso                           Telegram   \n",
      "\n",
      "            Película favorita  \\\n",
      "0                 I am Legend   \n",
      "1  Scott Pilgrim vs The World   \n",
      "2                         NaN   \n",
      "3                      Avatar   \n",
      "4      El Secreto de sus ojos   \n",
      "\n",
      "                        Gèneros literarios favoritos  \\\n",
      "0                                            Romance   \n",
      "1         Fantasía, Misterio, Divulgación científica   \n",
      "2                                                NaN   \n",
      "3  Fantasía, Misterio, Suspenso, Literatura histo...   \n",
      "4                                    Ficción, Poesía   \n",
      "\n",
      "  Plataforma donde más consumes literatura  Escritor favorito  \\\n",
      "0                                  Wattpad     Sarah M. James   \n",
      "1                         Libros en Físico          Dan Brown   \n",
      "2                                      NaN                NaN   \n",
      "3                                   google  Brandon Sanderson   \n",
      "4                         Libros en Físico       Alice Walker   \n",
      "\n",
      "  Arte plástica favorita Plataforma donde más consumes artes plásticas  \\\n",
      "0                Pintura                                     Pinterest   \n",
      "1                Pintura                              Galerías de Arte   \n",
      "2                    NaN                              Galerías de Arte   \n",
      "3              Artesanía                                     Pinterest   \n",
      "4                Pintura                              Galerías de Arte   \n",
      "\n",
      "  Artista plástico favorito   \n",
      "0           Vincent van Gogh  \n",
      "1              Salvador Dali  \n",
      "2                        NaN  \n",
      "3                luo li rong  \n",
      "4              Fidelio Ponce  \n"
     ]
    }
   ],
   "source": [
    "print(df.head())"
   ]
  },
  {
   "cell_type": "markdown",
   "metadata": {},
   "source": [
    "- ### Descripción estadística básica"
   ]
  },
  {
   "cell_type": "code",
   "execution_count": 103,
   "metadata": {},
   "outputs": [
    {
     "name": "stdout",
     "output_type": "stream",
     "text": [
      "                      Marca temporal  Qué edad tienes?\n",
      "count                            172        172.000000\n",
      "mean   2024-07-08 04:46:52.402575872         20.104651\n",
      "min       2024-07-07 09:37:08.497000         17.000000\n",
      "25%    2024-07-07 11:09:35.190500096         19.000000\n",
      "50%    2024-07-07 13:52:34.668499968         20.000000\n",
      "75%    2024-07-08 06:32:28.616750080         21.000000\n",
      "max       2024-07-24 11:45:22.526000         26.000000\n",
      "std                              NaN          1.506548\n"
     ]
    }
   ],
   "source": [
    "print(df.describe())"
   ]
  },
  {
   "cell_type": "markdown",
   "metadata": {},
   "source": [
    "- ### Verificar valores nulos"
   ]
  },
  {
   "cell_type": "code",
   "execution_count": 104,
   "metadata": {},
   "outputs": [
    {
     "name": "stdout",
     "output_type": "stream",
     "text": [
      "Marca temporal                                    0\n",
      "Universidad en que estudias                       1\n",
      "Facultad en que estudias                          1\n",
      "Qué edad tienes?                                  0\n",
      "Vertiente cultural que màs consumes               0\n",
      "Géneros musicales favoritos                       4\n",
      "Cantante o grupo favorito                        31\n",
      "Plataforma donde más consumes música              1\n",
      "Géneros cinematográficos favoritos                3\n",
      "Plataforma donde mas consumes cine               10\n",
      "Película favorita                                37\n",
      "Gèneros literarios favoritos                      8\n",
      "Plataforma donde más consumes literatura         14\n",
      "Escritor favorito                                54\n",
      "Arte plástica favorita                           27\n",
      "Plataforma donde más consumes artes plásticas    23\n",
      "Artista plástico favorito                        84\n",
      "dtype: int64\n"
     ]
    }
   ],
   "source": [
    "print(df.isnull().sum())"
   ]
  },
  {
   "cell_type": "markdown",
   "metadata": {},
   "source": [
    "- ### Identificar valores atípicos con un boxplot para variables numéricas"
   ]
  },
  {
   "cell_type": "code",
   "execution_count": 105,
   "metadata": {},
   "outputs": [
    {
     "data": {
      "image/png": "[encoded data removed]",
      "text/plain": [
       "<Figure size 800x400 with 1 Axes>"
      ]
     },
     "metadata": {},
     "output_type": "display_data"
    }
   ],
   "source": [
    "numeric_cols = df.select_dtypes(include=['float64', 'int64']).columns\n",
    "for col in numeric_cols:\n",
    "    plt.figure(figsize=(8, 4))\n",
    "    sns.boxplot(data=df, x=col)\n",
    "    plt.title(f'Boxplot de {col}')\n",
    "    plt.show()"
   ]
  },
  {
   "cell_type": "markdown",
   "metadata": {},
   "source": [
    "## 5. Medidas de tendencia central (media, mediana, moda)\n"
   ]
  },
  {
   "cell_type": "code",
   "execution_count": 106,
   "metadata": {},
   "outputs": [
    {
     "name": "stdout",
     "output_type": "stream",
     "text": [
      "Qué edad tienes?:\n",
      "  Media: 20.1046511627907\n",
      "  Mediana: 20.0\n",
      "  Moda: 20\n",
      "\n"
     ]
    }
   ],
   "source": [
    "numeric_cols = df.select_dtypes(include=['float64', 'int64']).columns\n",
    "for col in numeric_cols:\n",
    "    print(f\"{col}:\")\n",
    "    print(f\"  Media: {df[col].mean()}\")\n",
    "    print(f\"  Mediana: {df[col].median()}\")\n",
    "    print(f\"  Moda: {df[col].mode()[0]}\\n\")"
   ]
  },
  {
   "cell_type": "markdown",
   "metadata": {},
   "source": [
    "## 6. Medidas de dispersión (varianza, desviación estándar, rango)\n"
   ]
  },
  {
   "cell_type": "code",
   "execution_count": 107,
   "metadata": {},
   "outputs": [
    {
     "name": "stdout",
     "output_type": "stream",
     "text": [
      "Qué edad tienes?:\n",
      "Varianza: 2.2696858425132596\n",
      "Desviación estándar: 1.5065476569007896\n",
      "Rango: 9\n",
      "\n"
     ]
    }
   ],
   "source": [
    "for col in numeric_cols:\n",
    "    rango = df[col].max() - df[col].min()\n",
    "    print(f\"{col}:\")\n",
    "    print(f\"Varianza: {df[col].var()}\")\n",
    "    print(f\"Desviación estándar: {df[col].std()}\")\n",
    "    print(f\"Rango: {rango}\\n\")"
   ]
  },
  {
   "cell_type": "markdown",
   "metadata": {},
   "source": [
    "## 7. Visualización"
   ]
  },
  {
   "cell_type": "markdown",
   "metadata": {},
   "source": [
    "- ### Histogramas"
   ]
  },
  {
   "cell_type": "code",
   "execution_count": 108,
   "metadata": {},
   "outputs": [
    {
     "data": {
      "image/png": "[encoded data removed]",
      "text/plain": [
       "<Figure size 800x400 with 1 Axes>"
      ]
     },
     "metadata": {},
     "output_type": "display_data"
    }
   ],
   "source": [
    "for col in numeric_cols:\n",
    "    plt.figure(figsize=(8, 4))\n",
    "    sns.histplot(df[col], kde=True)\n",
    "    plt.title(f'Histograma de {col}')\n",
    "    plt.show()"
   ]
  },
  {
   "cell_type": "markdown",
   "metadata": {},
   "source": [
    "- ### Diagrama de dispersión para cada par de variables numéricas"
   ]
  },
  {
   "cell_type": "code",
   "execution_count": 109,
   "metadata": {},
   "outputs": [
    {
     "data": {
      "image/png": "[encoded data removed]",
      "text/plain": [
       "<Figure size 250x250 with 2 Axes>"
      ]
     },
     "metadata": {},
     "output_type": "display_data"
    }
   ],
   "source": [
    "sns.pairplot(df[numeric_cols])\n",
    "plt.show()"
   ]
  },
  {
   "cell_type": "markdown",
   "metadata": {},
   "source": [
    "- ### Boxplots para todas las variables numéricas"
   ]
  },
  {
   "cell_type": "code",
   "execution_count": 110,
   "metadata": {},
   "outputs": [
    {
     "data": {
      "image/png": "[encoded data removed]",
      "text/plain": [
       "<Figure size 800x400 with 1 Axes>"
      ]
     },
     "metadata": {},
     "output_type": "display_data"
    }
   ],
   "source": [
    "for col in numeric_cols:\n",
    "    plt.figure(figsize=(8, 4))\n",
    "    sns.boxplot(data=df, x=col)\n",
    "    plt.title(f'Boxplot de {col}')\n",
    "    plt.show()"
   ]
  },
  {
   "cell_type": "markdown",
   "metadata": {},
   "source": [
    "## 8. Estimadores"
   ]
  },
  {
   "cell_type": "markdown",
   "metadata": {},
   "source": [
    "- ### Estimación Puntual (Máxima Verosimilitud)"
   ]
  },
  {
   "cell_type": "code",
   "execution_count": 111,
   "metadata": {},
   "outputs": [
    {
     "name": "stdout",
     "output_type": "stream",
     "text": [
      "Columna: Qué edad tienes?\n",
      "Media (MLE): 20.1046511627907\n",
      "Desviación estándar (MLE): 1.5065476569007896\n"
     ]
    }
   ],
   "source": [
    "for col in numeric_cols:\n",
    "    media_mle = df[col].mean()\n",
    "    desv_std_mle = df[col].std()\n",
    "    print(f\"Columna: {col}\")\n",
    "    print(f\"Media (MLE): {media_mle}\")\n",
    "    print(f\"Desviación estándar (MLE): {desv_std_mle}\")"
   ]
  },
  {
   "cell_type": "markdown",
   "metadata": {},
   "source": [
    "- ### Intervalos de Confianza"
   ]
  },
  {
   "cell_type": "code",
   "execution_count": 112,
   "metadata": {},
   "outputs": [
    {
     "name": "stdout",
     "output_type": "stream",
     "text": [
      "Columna: Qué edad tienes?\n",
      "Intervalo de confianza al 95%: (19.87950386346218, 20.329798462119218)\n",
      "\n",
      "Intervalo de Confianza para proporción de 'Rock':\n",
      "Proporción: 0.4702, Intervalo: [0.3948, 0.5457]\n"
     ]
    }
   ],
   "source": [
    "from scipy.stats import norm\n",
    "\n",
    "alpha = 0.05  # Nivel de confianza\n",
    "for col in numeric_cols:\n",
    "    media = df[col].mean()\n",
    "    std_err = df[col].std() / (len(df[col]) ** 0.5)  # Error estándar\n",
    "    ci = norm.interval(1 - alpha, loc=media, scale=std_err)\n",
    "    print(f\"Columna: {col}\")\n",
    "    print(f\"Intervalo de confianza al 95%: {ci}\")\n",
    "    \n",
    "# Crear una columna binaria: menciona 'Rock' o no\n",
    "rock_present = df['Géneros musicales favoritos'].dropna().apply(lambda x: 1 if 'Rock' in x else 0)\n",
    "\n",
    "# Calcular proporción y su intervalo de confianza\n",
    "p_hat = rock_present.mean()  # proporción\n",
    "n = len(rock_present)\n",
    "se = np.sqrt((p_hat * (1 - p_hat)) / n)  # error estándar\n",
    "z = 1.96  # z para 95% de confianza\n",
    "\n",
    "ci_lower = p_hat - z * se\n",
    "ci_upper = p_hat + z * se\n",
    "\n",
    "print(\"\\nIntervalo de Confianza para proporción de 'Rock':\")\n",
    "print(f\"Proporción: {p_hat:.4f}, Intervalo: [{ci_lower:.4f}, {ci_upper:.4f}]\")"
   ]
  },
  {
   "cell_type": "markdown",
   "metadata": {},
   "source": [
    "## 9. Pruebas de hipótesis"
   ]
  },
  {
   "cell_type": "markdown",
   "metadata": {},
   "source": [
    "- ### Hipótesis 1: Comprobar si la media de una variable difiere significativamente de un valor hipotético"
   ]
  },
  {
   "cell_type": "code",
   "execution_count": 113,
   "metadata": {},
   "outputs": [
    {
     "name": "stdout",
     "output_type": "stream",
     "text": [
      "\n",
      "Hipótesis 1: ¿La media de \"Qué edad tienes?\" es igual a 22.11511627906977?\n",
      "Estadístico de prueba: -17.501605534834873\n",
      "p-valor: 5.804368873451156e-40\n",
      "Rechazamos la hipótesis nula (media diferente).\n"
     ]
    }
   ],
   "source": [
    "columna = numeric_cols[0]  # Seleccionar una variable numérica\n",
    "hipotetico = df[columna].mean() * 1.1  # Ejemplo: media esperada es 10% mayor que la observada\n",
    "stat, p_value = stats.ttest_1samp(df[columna].dropna(), hipotetico)\n",
    "print(f\"\\nHipótesis 1: ¿La media de \\\"{columna}\\\" es igual a {hipotetico}?\")\n",
    "print(f\"Estadístico de prueba: {stat}\")\n",
    "print(f\"p-valor: {p_value}\")\n",
    "if p_value < 0.05:\n",
    "    print(\"Rechazamos la hipótesis nula (media diferente).\")\n",
    "else:\n",
    "    print(\"No podemos rechazar la hipótesis nula (media igual).\")"
   ]
  },
  {
   "cell_type": "markdown",
   "metadata": {},
   "source": [
    "- ### Hipótesis 2: Comparar las medias de dos grupos"
   ]
  },
  {
   "cell_type": "code",
   "execution_count": 114,
   "metadata": {},
   "outputs": [
    {
     "name": "stdout",
     "output_type": "stream",
     "text": [
      "\n",
      "Hipótesis 2: ¿Las medias de dos grupos en \"Qué edad tienes?\" son iguales?\n",
      "Estadístico de prueba: -0.19240293792475044\n",
      "p-valor: 0.8476562382039929\n",
      "No podemos rechazar la hipótesis nula (medias iguales).\n"
     ]
    }
   ],
   "source": [
    "grupo_1 = df[columna].sample(frac=0.5, random_state=1)\n",
    "grupo_2 = df[columna].sample(frac=0.5, random_state=2)\n",
    "stat, p_value = stats.ttest_ind(grupo_1, grupo_2)\n",
    "print(f\"\\nHipótesis 2: ¿Las medias de dos grupos en \\\"{columna}\\\" son iguales?\")\n",
    "print(f\"Estadístico de prueba: {stat}\")\n",
    "print(f\"p-valor: {p_value}\")\n",
    "if p_value < 0.1:\n",
    "    print(\"Rechazamos la hipótesis nula (medias diferentes).\")\n",
    "else:\n",
    "    print(\"No podemos rechazar la hipótesis nula (medias iguales).\")"
   ]
  },
  {
   "cell_type": "markdown",
   "metadata": {},
   "source": [
    "- ### Hipótesis 3: Comprobar si la distribución de una variable es normal"
   ]
  },
  {
   "cell_type": "code",
   "execution_count": 115,
   "metadata": {},
   "outputs": [
    {
     "name": "stdout",
     "output_type": "stream",
     "text": [
      "\n",
      "Hipótesis 3: ¿La variable \"Qué edad tienes?\" sigue una distribución normal?\n",
      "Estadístico de prueba: 0.9107014401536149\n",
      "p-valor: 9.909095839965357e-09\n",
      "Rechazamos la hipótesis nula (no es normal).\n"
     ]
    }
   ],
   "source": [
    "stat, p_value = stats.shapiro(df[columna].dropna())\n",
    "print(f\"\\nHipótesis 3: ¿La variable \\\"{columna}\\\" sigue una distribución normal?\")\n",
    "print(f\"Estadístico de prueba: {stat}\")\n",
    "print(f\"p-valor: {p_value}\")\n",
    "if p_value < 0.05:\n",
    "    print(\"Rechazamos la hipótesis nula (no es normal).\")\n",
    "else:\n",
    "    print(\"No podemos rechazar la hipótesis nula (es normal).\")"
   ]
  },
  {
   "cell_type": "markdown",
   "metadata": {},
   "source": [
    "### Hipótesis 4: Proporción de Spotify > 50%"
   ]
  },
  {
   "cell_type": "code",
   "execution_count": 116,
   "metadata": {},
   "outputs": [
    {
     "name": "stdout",
     "output_type": "stream",
     "text": [
      "\n",
      "Prueba de Hipótesis: Proporción de Spotify > 50%\n",
      "Z-Score: -10.1708, P-Valor: 1.0000\n",
      "No podemos rechazar la hipótesis nula. No hay evidencia suficiente de que la poporcion de usuarios de Spotify supere el 50%.\n"
     ]
    }
   ],
   "source": [
    "spotify_present = df['Plataforma donde más consumes música'].dropna().apply(lambda x: 1 if 'Spotify' in x else 0)\n",
    "spotify_proporcion = spotify_present.mean()\n",
    "\n",
    "# Realizar prueba z\n",
    "z_score = (spotify_proporcion - 0.5) / np.sqrt((0.5 * 0.5) / len(spotify_present))\n",
    "p_value = 1 - stats.norm.cdf(z_score)\n",
    "\n",
    "print(\"\\nPrueba de Hipótesis: Proporción de Spotify > 50%\")\n",
    "print(f\"Z-Score: {z_score:.4f}, P-Valor: {p_value:.4f}\")\n",
    "if p_value < 0.05:\n",
    "    print(\"Rechazamos la hipótesis nula. La proporcion de usuarios de Spotify es significativamente mayor al 50%.\")\n",
    "else:\n",
    "    print(\"No podemos rechazar la hipótesis nula. No hay evidencia suficiente de que la poporcion de usuarios de Spotify supere el 50%.\")"
   ]
  },
  {
   "cell_type": "markdown",
   "metadata": {},
   "source": [
    "### Hipótesis 5: Spotify vs. Telegram"
   ]
  },
  {
   "cell_type": "code",
   "execution_count": 117,
   "metadata": {},
   "outputs": [
    {
     "name": "stdout",
     "output_type": "stream",
     "text": [
      "\n",
      "Prueba de Hipótesis: Spotify vs Telegram\n",
      "Z-Score: -7.5646, P-Valor: 0.0000\n",
      "Conclusión: Recazamos la hipótesis nula. Hay una diferencia significativa entre las proporciones de usuarios de Spotify y Telegram.\n"
     ]
    }
   ],
   "source": [
    "telegram_present = df['Plataforma donde más consumes música'].dropna().apply(lambda x: 1 if 'Telegram' in x else 0)\n",
    "\n",
    "# Proporciones y tamaños\n",
    "p1, p2 = spotify_present.mean(), telegram_present.mean()\n",
    "n1, n2 = len(spotify_present), len(telegram_present)\n",
    "\n",
    "# Estadístico z para diferencia de proporciones\n",
    "p_combined = (p1 * n1 + p2 * n2) / (n1 + n2)\n",
    "se_combined = np.sqrt(p_combined * (1 - p_combined) * (1/n1 + 1/n2))\n",
    "z_diff = (p1 - p2) / se_combined\n",
    "p_diff = 2 * (1 - stats.norm.cdf(abs(z_diff)))\n",
    "\n",
    "print(\"\\nPrueba de Hipótesis: Spotify vs Telegram\")\n",
    "print(f\"Z-Score: {z_diff:.4f}, P-Valor: {p_diff:.4f}\")\n",
    "if p_diff < 0.05:\n",
    "    print(\"Conclusión: Recazamos la hipótesis nula. Hay una diferencia significativa entre las proporciones de usuarios de Spotify y Telegram.\")\n",
    "else:\n",
    "    print(\"Conclusión: No se rechaza la hipótesis nula. No hay evidencia suficiente de una evidencia significativa entre las proporciones de usuarios de Sotify y Telegram.\")\n"
   ]
  },
  {
   "cell_type": "markdown",
   "metadata": {},
   "source": [
    "## 9.1 Tablas de Contingencia y Tests"
   ]
  },
  {
   "cell_type": "code",
   "execution_count": 118,
   "metadata": {},
   "outputs": [],
   "source": [
    "# Crear tabla de contingencia entre 'Vertiente cultural' y 'Plataforma de música'\n",
    "tabla_contingencia = pd.crosstab(df['Vertiente cultural que màs consumes'],\n",
    "                                df['Plataforma donde más consumes música'])"
   ]
  },
  {
   "cell_type": "markdown",
   "metadata": {},
   "source": [
    "### Test de Independencia"
   ]
  },
  {
   "cell_type": "code",
   "execution_count": 119,
   "metadata": {},
   "outputs": [
    {
     "name": "stdout",
     "output_type": "stream",
     "text": [
      "\n",
      "Test de Independencia:\n",
      "Chi-cuadrado: 40.2015, P-Valor: 0.4613\n",
      "Tabla de Contingencia:\n",
      "Plataforma donde más consumes música  Apple Music  Deezer  Paquete Semanal  \\\n",
      "Vertiente cultural que màs consumes                                          \n",
      "Artes Plásticas                                 1       0                0   \n",
      "Cine                                            0       2                0   \n",
      "Fotografía                                      1       1                0   \n",
      "Literatura                                      0       3                0   \n",
      "Moda                                            0       0                0   \n",
      "Música                                          2       9                1   \n",
      "\n",
      "Plataforma donde más consumes música  Snaptube  Spotify  Telegram  VidMate  \\\n",
      "Vertiente cultural que màs consumes                                          \n",
      "Artes Plásticas                              0        1         0        0   \n",
      "Cine                                         0        4        15        0   \n",
      "Fotografía                                   0        0         3        0   \n",
      "Literatura                                   1        1        12        0   \n",
      "Moda                                         0        0         2        0   \n",
      "Música                                       4       13        51        2   \n",
      "\n",
      "Plataforma donde más consumes música  Youtube  Youtube Music  \n",
      "Vertiente cultural que màs consumes                           \n",
      "Artes Plásticas                             0              0  \n",
      "Cine                                        8              0  \n",
      "Fotografía                                  2              0  \n",
      "Literatura                                  4              0  \n",
      "Moda                                        0              0  \n",
      "Música                                     25              3  \n"
     ]
    }
   ],
   "source": [
    "chi2, p_chi2, dof, expected = stats.chi2_contingency(tabla_contingencia)\n",
    "\n",
    "print(\"\\nTest de Independencia:\")\n",
    "print(f\"Chi-cuadrado: {chi2:.4f}, P-Valor: {p_chi2:.4f}\")\n",
    "print(\"Tabla de Contingencia:\")\n",
    "print(tabla_contingencia)"
   ]
  },
  {
   "cell_type": "markdown",
   "metadata": {},
   "source": [
    "### Test de Homogeneidad"
   ]
  },
  {
   "cell_type": "code",
   "execution_count": 120,
   "metadata": {},
   "outputs": [
    {
     "name": "stdout",
     "output_type": "stream",
     "text": [
      "\n",
      "Test de Homogeneidad:\n",
      "Chi-cuadrado: 3.6518, P-Valor: 0.8871\n"
     ]
    }
   ],
   "source": [
    "# Comparar la distribución de 'Plataforma donde más consumes música' entre dos vertientes culturales\n",
    "vertientes_filtradas = df['Vertiente cultural que màs consumes'].dropna().unique()[:2]\n",
    "sub_df = df[df['Vertiente cultural que màs consumes'].isin(vertientes_filtradas)]\n",
    "\n",
    "homogeneidad_tabla = pd.crosstab(sub_df['Vertiente cultural que màs consumes'],\n",
    "                                sub_df['Plataforma donde más consumes música'])\n",
    "\n",
    "chi2_hom, p_hom, dof_hom, expected_hom = stats.chi2_contingency(homogeneidad_tabla)\n",
    "\n",
    "print(\"\\nTest de Homogeneidad:\")\n",
    "print(f\"Chi-cuadrado: {chi2_hom:.4f}, P-Valor: {p_hom:.4f}\")"
   ]
  }
 ],
 "metadata": {
  "kernelspec": {
   "display_name": "Python 3",
   "language": "python",
   "name": "python3"
  },
  "language_info": {
   "codemirror_mode": {
    "name": "ipython",
    "version": 3
   },
   "file_extension": ".py",
   "mimetype": "text/x-python",
   "name": "python",
   "nbconvert_exporter": "python",
   "pygments_lexer": "ipython3",
   "version": "3.10.12"
  }
 },
 "nbformat": 4,
 "nbformat_minor": 2
}
